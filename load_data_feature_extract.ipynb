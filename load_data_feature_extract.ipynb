{
 "cells": [
  {
   "cell_type": "code",
   "execution_count": 1,
   "metadata": {},
   "outputs": [],
   "source": [
    "import os\n",
    "import sys\n",
    "sys.path.insert(0, os.getcwd())\n",
    "import pandas as pd\n",
    "import argparse\n",
    "import time\n",
    "from utils.data_frame_parser import DataFrameParser\n",
    "from utils.numpytupledataset import NumpyTupleDataset\n",
    "from utils.smile_to_graph import GGNNPreprocessor"
   ]
  },
  {
   "cell_type": "markdown",
   "metadata": {},
   "source": [
    "## change data_loader_mol.py"
   ]
  },
  {
   "cell_type": "code",
   "execution_count": 10,
   "metadata": {},
   "outputs": [
    {
     "name": "stdout",
     "output_type": "stream",
     "text": [
      "Loading file data/qm9_kekulized.npz\n"
     ]
    }
   ],
   "source": [
    "import json\n",
    "from utils.data_loader_mol import load_mol, MolDataset, get_transform_fn\n",
    "\n",
    "mols = load_mol('data/qm9_kekulized.npz')\n"
   ]
  },
  {
   "cell_type": "code",
   "execution_count": 11,
   "metadata": {},
   "outputs": [
    {
     "name": "stdout",
     "output_type": "stream",
     "text": [
      "Number of training mols: 120803 | Number of test mols: 13082\n"
     ]
    }
   ],
   "source": [
    "with open('data/valid_idx_qm9.json') as f:\n",
    "    test_idx = json.load(f)\n",
    "\n",
    "test_idx = test_idx['valid_idxs']\n",
    "test_idx = [int(i) for i in test_idx]\n",
    "train_idx = [i for i in range(133885) if i not in test_idx]\n",
    "print(f'Number of training mols: {len(train_idx)} | Number of test mols: {len(test_idx)}')\n",
    "train_mols = [mols[i] for i in train_idx]\n",
    "test_mols = [mols[i] for i in test_idx]\n",
    "\n",
    "train_dataset = MolDataset(train_mols, get_transform_fn('QM9')) #\"qm9\" / \"zinc250k\"\n",
    "test_dataset = MolDataset(test_mols, get_transform_fn(\"QM9\"))"
   ]
  },
  {
   "cell_type": "code",
   "execution_count": 15,
   "metadata": {},
   "outputs": [
    {
     "data": {
      "text/plain": [
       "(tensor([[1., 0., 0., 0.],\n",
       "         [1., 0., 0., 0.],\n",
       "         [1., 0., 0., 0.],\n",
       "         [0., 0., 1., 0.],\n",
       "         [1., 0., 0., 0.],\n",
       "         [0., 1., 0., 0.],\n",
       "         [1., 0., 0., 0.],\n",
       "         [1., 0., 0., 0.],\n",
       "         [1., 0., 0., 0.]]),\n",
       " tensor([[0., 3., 0., 0., 0., 0., 0., 0., 0.],\n",
       "         [3., 0., 1., 0., 0., 0., 0., 0., 0.],\n",
       "         [0., 1., 0., 1., 0., 0., 0., 2., 0.],\n",
       "         [0., 0., 1., 0., 1., 0., 0., 0., 0.],\n",
       "         [0., 0., 0., 1., 0., 1., 2., 0., 0.],\n",
       "         [0., 0., 0., 0., 1., 0., 0., 0., 0.],\n",
       "         [0., 0., 0., 0., 2., 0., 0., 1., 0.],\n",
       "         [0., 0., 2., 0., 0., 0., 1., 0., 1.],\n",
       "         [0., 0., 0., 0., 0., 0., 0., 1., 0.]]))"
      ]
     },
     "execution_count": 15,
     "metadata": {},
     "output_type": "execute_result"
    }
   ],
   "source": [
    "train_dataset[25000]"
   ]
  },
  {
   "cell_type": "code",
   "execution_count": null,
   "metadata": {},
   "outputs": [],
   "source": [
    "start_time = time()\n",
    "test_mols = "
   ]
  },
  {
   "cell_type": "markdown",
   "metadata": {},
   "source": [
    "## reimplement the get_transform_fn()\n",
    "### QM9"
   ]
  },
  {
   "cell_type": "code",
   "execution_count": 2,
   "metadata": {},
   "outputs": [
    {
     "name": "stdout",
     "output_type": "stream",
     "text": [
      "[(0, {'label': 'C'}), (1, {'label': 'C'}), (2, {'label': 'C'}), (3, {'label': 'O'}), (4, {'label': 'C'}), (5, {'label': 'N'}), (6, {'label': 'C'}), (7, {'label': 'C'}), (8, {'label': 'C'})]\n",
      "[(0, 1, {'label': 1}), (1, 2, {'label': 1}), (1, 6, {'label': 1}), (2, 3, {'label': 1}), (2, 7, {'label': 1}), (3, 4, {'label': 1}), (4, 5, {'label': 1}), (4, 6, {'label': 1}), (7, 8, {'label': 3})]\n"
     ]
    },
    {
     "data": {
      "text/plain": [
       "matrix([[0., 1., 0., 0., 0., 0., 0., 0., 0.],\n",
       "        [1., 0., 1., 0., 0., 0., 1., 0., 0.],\n",
       "        [0., 1., 0., 1., 0., 0., 0., 1., 0.],\n",
       "        [0., 0., 1., 0., 1., 0., 0., 0., 0.],\n",
       "        [0., 0., 0., 1., 0., 1., 1., 0., 0.],\n",
       "        [0., 0., 0., 0., 1., 0., 0., 0., 0.],\n",
       "        [0., 1., 0., 0., 1., 0., 0., 0., 0.],\n",
       "        [0., 0., 1., 0., 0., 0., 0., 0., 1.],\n",
       "        [0., 0., 0., 0., 0., 0., 0., 1., 0.]])"
      ]
     },
     "execution_count": 2,
     "metadata": {},
     "output_type": "execute_result"
    }
   ],
   "source": [
    "import pickle\n",
    "import networkx as nx\n",
    "with open('data/qm9_train_nx.pkl', 'rb') as f:\n",
    "    train_mols_nx_1 = pickle.load(f)\n",
    "\n",
    "mol_nx = train_mols_nx_1[25000]\n",
    "# see node attributes\n",
    "print(mol_nx.nodes(data=True))\n",
    "# see edge attributes\n",
    "print(mol_nx.edges(data=True))\n",
    "# extract adjacency matrix with edge attributes\n",
    "adj = nx.to_numpy_matrix(mol_nx, weight='order')\n",
    "adj"
   ]
  },
  {
   "cell_type": "code",
   "execution_count": 3,
   "metadata": {},
   "outputs": [
    {
     "data": {
      "image/png": "[encoded data removed]",
      "text/plain": [
       "<Figure size 300x300 with 1 Axes>"
      ]
     },
     "metadata": {},
     "output_type": "display_data"
    }
   ],
   "source": [
    "# draw the graph\n",
    "import matplotlib.pyplot as plt\n",
    "plt.figure(figsize=(3, 3))\n",
    "nx.draw(mol_nx, with_labels=True)\n",
    "plt.show()"
   ]
  },
  {
   "cell_type": "code",
   "execution_count": 4,
   "metadata": {},
   "outputs": [],
   "source": [
    "import numpy as np\n",
    "import torch\n",
    "def extract_adjacency_matrix(graph, pad_virtual_nodes=True):\n",
    "    max_nodes = 9 if pad_virtual_nodes else len(graph.nodes)\n",
    "    adjacency_matrix = np.zeros((max_nodes, max_nodes))\n",
    "\n",
    "    for i, j, data in graph.edges(data=True):\n",
    "        # Retrieve the label of the edge\n",
    "        label = data.get('label', 0)  # Default to 0 if no label is found\n",
    "        adjacency_matrix[i, j] = label\n",
    "        adjacency_matrix[j, i] = label  # Since the graph is undirected\n",
    "\n",
    "    return torch.from_numpy(adjacency_matrix).float()\n",
    "\n",
    "# order difference with the original function\n",
    "def extract_node_feature_matrix_qm9(graph, pad_virtual_nodes=True):\n",
    "    one_hot_mapping = {'C': [1, 0, 0, 0], 'N': [0, 1, 0, 0], 'O': [0, 0, 1, 0], 'F': [0, 0, 0, 1]}\n",
    "    max_nodes = 9 if pad_virtual_nodes else len(graph.nodes)\n",
    "\n",
    "    # Initialize a matrix of zeros\n",
    "    feature_matrix = np.zeros((max_nodes, 4))\n",
    "\n",
    "    for node, data in graph.nodes(data=True):\n",
    "        # Retrieve the label and convert to one-hot encoding\n",
    "        label = data.get('label', 'C')  # Default to 'C' if no label is found\n",
    "        one_hot = one_hot_mapping.get(label, one_hot_mapping['C'])  # Default to 'C' encoding if label is not found\n",
    "        feature_matrix[node] = one_hot\n",
    "\n",
    "    return torch.from_numpy(feature_matrix).float()\n",
    "\n",
    "def extract_edge_features(graph):\n",
    "    one_hot_mapping = {1: [1, 0, 0], 2: [0, 1, 0], 3: [0, 0, 1]}\n",
    "    edge_features = []\n",
    "\n",
    "    for _, _, data in graph.edges(data=True):\n",
    "        # Retrieve the label of the edge\n",
    "        label = data.get('label', 1)  # Default to 1 if no label is found\n",
    "        one_hot = one_hot_mapping.get(label, one_hot_mapping[1])  # Default to label 1 encoding if label is not found\n",
    "        edge_features.append(one_hot)\n",
    "\n",
    "    return torch.tensor(edge_features, dtype=torch.float)"
   ]
  },
  {
   "cell_type": "code",
   "execution_count": 42,
   "metadata": {},
   "outputs": [
    {
     "name": "stdout",
     "output_type": "stream",
     "text": [
      "tensor([[0., 3., 0., 0., 0., 0., 0., 0., 0.],\n",
      "        [3., 0., 0., 0., 0., 0., 0., 0., 0.],\n",
      "        [0., 0., 0., 0., 0., 0., 0., 0., 0.],\n",
      "        [0., 0., 0., 0., 0., 0., 0., 0., 0.],\n",
      "        [0., 0., 0., 0., 0., 0., 0., 0., 0.],\n",
      "        [0., 0., 0., 0., 0., 0., 0., 0., 0.],\n",
      "        [0., 0., 0., 0., 0., 0., 0., 0., 0.],\n",
      "        [0., 0., 0., 0., 0., 0., 0., 0., 0.],\n",
      "        [0., 0., 0., 0., 0., 0., 0., 0., 0.]])\n",
      "tensor([[1., 0., 0., 0.],\n",
      "        [1., 0., 0., 0.],\n",
      "        [0., 0., 0., 0.],\n",
      "        [0., 0., 0., 0.],\n",
      "        [0., 0., 0., 0.],\n",
      "        [0., 0., 0., 0.],\n",
      "        [0., 0., 0., 0.],\n",
      "        [0., 0., 0., 0.],\n",
      "        [0., 0., 0., 0.]])\n",
      "tensor([[0., 0., 1.]])\n"
     ]
    }
   ],
   "source": [
    "mol_nx = train_mols_nx_1[3]\n",
    "print(extract_adjacency_matrix(mol_nx, 1))\n",
    "print(extract_node_feature_matrix_qm9(mol_nx, 1))\n",
    "print(extract_edge_features(mol_nx))"
   ]
  },
  {
   "cell_type": "markdown",
   "metadata": {},
   "source": [
    "## CAN\n",
    "It seems we don't need to pad virtual nodes or edges for CAN"
   ]
  },
  {
   "cell_type": "code",
   "execution_count": 47,
   "metadata": {},
   "outputs": [
    {
     "name": "stdout",
     "output_type": "stream",
     "text": [
      "[(1, 2, 3, 4, 6)]\n"
     ]
    }
   ],
   "source": [
    "with open(\"data/qm9_train_rings.pkl\", \"rb\") as f:\n",
    "    qm9_train_rings = pickle.load(f)\n",
    "mol_nx = qm9_train_rings[25000]\n",
    "mol_ring = qm9_train_rings[25000]\n",
    "print(mol_ring)"
   ]
  },
  {
   "cell_type": "code",
   "execution_count": 48,
   "metadata": {},
   "outputs": [
    {
     "name": "stdout",
     "output_type": "stream",
     "text": [
      "Cell Complex with 5 nodes, 5 edges and 2 2-cells \n",
      "[[2. 1. 1. 0. 0.]\n",
      " [1. 2. 0. 0. 1.]\n",
      " [1. 0. 2. 1. 0.]\n",
      " [0. 0. 1. 2. 1.]\n",
      " [0. 1. 0. 1. 2.]]\n",
      "[[2. 2. 2. 2. 2.]\n",
      " [2. 2. 2. 2. 2.]\n",
      " [2. 2. 2. 2. 2.]\n",
      " [2. 2. 2. 2. 2.]\n",
      " [2. 2. 2. 2. 2.]]\n"
     ]
    }
   ],
   "source": [
    "# lift the molecular graph to a cellular complex \n",
    "# and extract upper and lower adjacency matrices for the 1-skeleton\n",
    "from toponetx.classes.cell_complex import CellComplex\n",
    "\n",
    "cell_complex = CellComplex(mol_nx)\n",
    "cell_complex.add_cells_from(mol_ring, rank = 2)\n",
    "print(cell_complex)\n",
    "print(cell_complex.down_laplacian_matrix(rank=1, signed=False).todense())\n",
    "# print(cell_complex.incidence_matrix(rank=1, signed=False).todense())\n",
    "# print(cell_complex.incidence_matrix(rank=2, signed=False).todense())\n",
    "print(cell_complex.up_laplacian_matrix(rank=1, signed=False).todense())"
   ]
  },
  {
   "cell_type": "code",
   "execution_count": 36,
   "metadata": {},
   "outputs": [
    {
     "name": "stdout",
     "output_type": "stream",
     "text": [
      "{(1, 2, 3, 4, 6): 0}\n"
     ]
    }
   ],
   "source": [
    "from itertools import zip_longest\n",
    "mol_rings_1 = [1,2,3,4,6]\n",
    "list(zip_longest(mol_rings_1, mol_rings_1[1:] + [mol_rings_1[0]]))\n",
    "print({cell.elements: celli for celli, cell in enumerate(cell_complex.cells)})"
   ]
  },
  {
   "cell_type": "code",
   "execution_count": 29,
   "metadata": {},
   "outputs": [
    {
     "name": "stdout",
     "output_type": "stream",
     "text": [
      "0\n",
      "(1, 2)\n",
      "(2, 3)\n",
      "(3, 4)\n",
      "(4, 6)\n",
      "(6, 1)\n"
     ]
    }
   ],
   "source": [
    "sorted(mol_nx.nodes())\n",
    "sorted([sorted(e) for e in mol_nx.edges()])\n",
    "for celli, cell in enumerate(cell_complex.cells):\n",
    "    print(celli)\n",
    "    for edge in cell.boundary:\n",
    "        print(edge)"
   ]
  },
  {
   "cell_type": "code",
   "execution_count": 23,
   "metadata": {},
   "outputs": [
    {
     "name": "stdout",
     "output_type": "stream",
     "text": [
      "[[2. 1. 0. 0.]\n",
      " [1. 2. 1. 0.]\n",
      " [0. 1. 2. 1.]\n",
      " [0. 0. 1. 2.]]\n"
     ]
    }
   ],
   "source": [
    "import scipy as sp\n",
    "\n",
    "# calculate edge adjacency matrix for the 1-skeleton of the graph\n",
    "\n",
    "def incidence_matrix(graph, signed=False, index=False, rank=1):\n",
    "    if rank == 0:\n",
    "        A = sp.sparse.lil_matrix((0, len(graph.nodes())))\n",
    "        if index:\n",
    "            node_index = {node: i for i, node in enumerate(sorted(graph.nodes()))}\n",
    "            if signed:\n",
    "                return {}, node_index, A.asformat(\"csr\")\n",
    "            else:\n",
    "                return {}, node_index, abs(A.asformat(\"csr\"))\n",
    "        else:\n",
    "            if signed:\n",
    "                return A.asformat(\"csr\")\n",
    "            else:\n",
    "                return abs(A.asformat(\"csr\"))\n",
    "    elif rank == 1:\n",
    "        nodelist = sorted(graph.nodes())  # always output boundary matrix in dictionary order\n",
    "        edgelist = sorted([sorted(e) for e in graph.edges()])\n",
    "        A = sp.sparse.lil_matrix((len(nodelist), len(edgelist)))\n",
    "        node_index = {node: i for i, node in enumerate(nodelist)}\n",
    "        for ei, e in enumerate(edgelist):\n",
    "            (u, v) = e[:2]\n",
    "            ui = node_index[u]\n",
    "            vi = node_index[v]\n",
    "            A[ui, ei] = -1\n",
    "            A[vi, ei] = 1\n",
    "\n",
    "        if index:\n",
    "            edge_index = {tuple(sorted(edge)): i for i, edge in enumerate(edgelist)}\n",
    "            if signed:\n",
    "                return node_index, edge_index, A.asformat(\"csr\")\n",
    "            else:\n",
    "                return node_index, edge_index, abs(A.asformat(\"csr\"))\n",
    "        else:\n",
    "            if signed:\n",
    "                return A.asformat(\"csr\")\n",
    "            else:\n",
    "                return abs(A.asformat(\"csr\"))\n",
    "    elif rank == 2:\n",
    "        edgelist = sorted([sorted(e) for e in graph.edges()])\n",
    "\n",
    "        A = sp.sparse.lil_matrix((len(edgelist), len(self.cells)))\n",
    "\n",
    "        edge_index = {\n",
    "            tuple(sorted(edge)): i for i, edge in enumerate(edgelist)\n",
    "        }  # orient edges\n",
    "        for celli, cell in enumerate(self.cells):\n",
    "            edge_visiting_dic = {}  # this dictionary is cell dependent\n",
    "            # mainly used to handle the cell complex non-regular case\n",
    "            for edge in cell.boundary:\n",
    "                ei = edge_index[tuple(sorted(edge))]\n",
    "                if ei not in edge_visiting_dic:\n",
    "                    if edge in edge_index:\n",
    "                        edge_visiting_dic[ei] = 1\n",
    "                    else:\n",
    "                        edge_visiting_dic[ei] = -1\n",
    "                else:\n",
    "                    if edge in edge_index:\n",
    "                        edge_visiting_dic[ei] = edge_visiting_dic[ei] + 1\n",
    "                    else:\n",
    "                        edge_visiting_dic[ei] = edge_visiting_dic[ei] - 1\n",
    "\n",
    "                A[ei, celli] = edge_visiting_dic[\n",
    "                    ei\n",
    "                ]  # this will update everytime we visit this edge for non-regular cell complexes\n",
    "                # the regular case can be handled more efficiently :\n",
    "                # if edge in edge_index:\n",
    "                #    A[ei, celli] = 1\n",
    "                # else:\n",
    "                #    A[ei, celli] = -1\n",
    "        if index:\n",
    "            cell_index = {c.elements: i for i, c in enumerate(self.cells)}\n",
    "            if signed:\n",
    "                return edge_index, cell_index, A.asformat(\"csr\")\n",
    "            else:\n",
    "                return edge_index, cell_index, abs(A.asformat(\"csr\"))\n",
    "        else:\n",
    "            if signed:\n",
    "                return A.asformat(\"csr\")\n",
    "            else:\n",
    "                return abs(A.asformat(\"csr\"))\n",
    "    else:\n",
    "        raise ValueError(f\"Only dimensions 0, 1 and 2 are supported, got {rank}.\")\n",
    "    \n",
    "def down_laplacian_matrix(graph, signed=False, index=False):\n",
    "    #suppose 0 < rank <= self.dim\n",
    "    row, column, B = incidence_matrix(graph, index=True)\n",
    "    L_down = B.transpose() @ B\n",
    "    if signed:\n",
    "        L_down = abs(L_down)\n",
    "    if index:\n",
    "        return row, L_down\n",
    "    else:\n",
    "        return L_down\n",
    "    \n",
    "def up_laplacian_matrix(graph, signed=False, index=False):\n",
    "    # suppose rank < self.dim\n",
    "\n",
    "    \n",
    "print(down_laplacian_matrix(train_mols_nx_1[100], signed=False, index=False).todense())\n"
   ]
  },
  {
   "cell_type": "code",
   "execution_count": 31,
   "metadata": {},
   "outputs": [
    {
     "name": "stdout",
     "output_type": "stream",
     "text": [
      "[(0, {'label': 'C'}), (1, {'label': 'C'}), (2, {'label': 'C'}), (3, {'label': 'O'}), (4, {'label': 'C'}), (5, {'label': 'N'}), (6, {'label': 'C'}), (7, {'label': 'C'}), (8, {'label': 'C'})]\n",
      "[(0, 1, {'label': 1}), (1, 2, {'label': 1}), (1, 6, {'label': 1}), (2, 3, {'label': 1}), (2, 7, {'label': 1}), (3, 4, {'label': 1}), (4, 5, {'label': 1}), (4, 6, {'label': 1}), (7, 8, {'label': 3})]\n"
     ]
    },
    {
     "data": {
      "text/plain": [
       "matrix([[0., 1., 0., 0., 0., 0., 0., 0., 0.],\n",
       "        [1., 0., 1., 0., 0., 0., 1., 0., 0.],\n",
       "        [0., 1., 0., 1., 0., 0., 0., 1., 0.],\n",
       "        [0., 0., 1., 0., 1., 0., 0., 0., 0.],\n",
       "        [0., 0., 0., 1., 0., 1., 1., 0., 0.],\n",
       "        [0., 0., 0., 0., 1., 0., 0., 0., 0.],\n",
       "        [0., 1., 0., 0., 1., 0., 0., 0., 0.],\n",
       "        [0., 0., 1., 0., 0., 0., 0., 0., 1.],\n",
       "        [0., 0., 0., 0., 0., 0., 0., 1., 0.]])"
      ]
     },
     "execution_count": 31,
     "metadata": {},
     "output_type": "execute_result"
    }
   ],
   "source": [
    "import pickle\n",
    "import networkx as nx\n",
    "with open('data/qm9_train_nx.pkl', 'rb') as f:\n",
    "    train_mols_nx_1 = pickle.load(f)\n",
    "\n",
    "mol_nx = train_mols_nx_1[25000]\n",
    "# see node attributes\n",
    "print(mol_nx.nodes(data=True))\n",
    "# see edge attributes\n",
    "print(mol_nx.edges(data=True))\n",
    "# extract adjacency matrix with edge attributes\n",
    "adj = nx.to_numpy_matrix(mol_nx, weight='order')\n",
    "adj"
   ]
  }
 ],
 "metadata": {
  "kernelspec": {
   "display_name": "tmx",
   "language": "python",
   "name": "python3"
  },
  "language_info": {
   "codemirror_mode": {
    "name": "ipython",
    "version": 3
   },
   "file_extension": ".py",
   "mimetype": "text/x-python",
   "name": "python",
   "nbconvert_exporter": "python",
   "pygments_lexer": "ipython3",
   "version": "3.11.3"
  }
 },
 "nbformat": 4,
 "nbformat_minor": 2
}
