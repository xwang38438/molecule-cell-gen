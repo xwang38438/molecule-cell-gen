{
 "cells": [
  {
   "cell_type": "code",
   "execution_count": 2,
   "metadata": {},
   "outputs": [],
   "source": [
    "import os\n",
    "import sys\n",
    "sys.path.insert(0, os.getcwd())\n",
    "import pandas as pd\n",
    "import argparse\n",
    "import time\n",
    "from utils.data_frame_parser import DataFrameParser\n",
    "from utils.numpytupledataset import NumpyTupleDataset\n",
    "from utils.smile_to_graph import GGNNPreprocessor"
   ]
  },
  {
   "cell_type": "code",
   "execution_count": 3,
   "metadata": {},
   "outputs": [],
   "source": [
    "# load data from the beginning\n",
    "# we have csv files for QM9 and ZINC250k\n",
    "\n",
    "# test qm9\n",
    "max_atoms = 9\n",
    "path = 'data/qm9.csv'\n",
    "smiles_col = 'SMILES1'\n",
    "label_idx = 2\n",
    "\n",
    "preprocessor = GGNNPreprocessor(out_size=max_atoms, kekulize=True)\n",
    "df = pd.read_csv(path, index_col=0)"
   ]
  },
  {
   "cell_type": "code",
   "execution_count": 8,
   "metadata": {},
   "outputs": [
    {
     "data": {
      "text/plain": [
       "['A',\n",
       " 'B',\n",
       " 'C',\n",
       " 'mu',\n",
       " 'alpha',\n",
       " 'homo',\n",
       " 'lumo',\n",
       " 'gap',\n",
       " 'r2',\n",
       " 'zpve',\n",
       " 'U0',\n",
       " 'U',\n",
       " 'H',\n",
       " 'G',\n",
       " 'Cv']"
      ]
     },
     "execution_count": 8,
     "metadata": {},
     "output_type": "execute_result"
    }
   ],
   "source": [
    "labels = df.keys().tolist()[label_idx:]\n",
    "labels"
   ]
  },
  {
   "cell_type": "code",
   "execution_count": 10,
   "metadata": {},
   "outputs": [
    {
     "name": "stderr",
     "output_type": "stream",
     "text": [
      "100%|██████████| 133885/133885 [00:29<00:00, 4603.32it/s]\n"
     ]
    }
   ],
   "source": [
    "parser = DataFrameParser(preprocessor, labels = labels, smiles_col = smiles_col)\n",
    "result = parser.parse(df, return_smiles=True)\n",
    "#print(parser.extract_total_num(df))"
   ]
  },
  {
   "cell_type": "code",
   "execution_count": 12,
   "metadata": {},
   "outputs": [],
   "source": [
    "dataset = result['dataset']"
   ]
  },
  {
   "cell_type": "code",
   "execution_count": 18,
   "metadata": {},
   "outputs": [
    {
     "data": {
      "text/plain": [
       "(array([7, 6, 8, 6, 6, 8, 0, 0, 0], dtype=int32),\n",
       " array([[[0., 0., 0., 0., 0., 0., 0., 0., 0.],\n",
       "         [0., 0., 1., 0., 0., 0., 0., 0., 0.],\n",
       "         [0., 1., 0., 1., 0., 0., 0., 0., 0.],\n",
       "         [0., 0., 1., 0., 1., 0., 0., 0., 0.],\n",
       "         [0., 0., 0., 1., 0., 0., 0., 0., 0.],\n",
       "         [0., 0., 0., 0., 0., 0., 0., 0., 0.],\n",
       "         [0., 0., 0., 0., 0., 0., 0., 0., 0.],\n",
       "         [0., 0., 0., 0., 0., 0., 0., 0., 0.],\n",
       "         [0., 0., 0., 0., 0., 0., 0., 0., 0.]],\n",
       " \n",
       "        [[0., 1., 0., 0., 0., 0., 0., 0., 0.],\n",
       "         [1., 0., 0., 0., 0., 0., 0., 0., 0.],\n",
       "         [0., 0., 0., 0., 0., 0., 0., 0., 0.],\n",
       "         [0., 0., 0., 0., 0., 0., 0., 0., 0.],\n",
       "         [0., 0., 0., 0., 0., 1., 0., 0., 0.],\n",
       "         [0., 0., 0., 0., 1., 0., 0., 0., 0.],\n",
       "         [0., 0., 0., 0., 0., 0., 0., 0., 0.],\n",
       "         [0., 0., 0., 0., 0., 0., 0., 0., 0.],\n",
       "         [0., 0., 0., 0., 0., 0., 0., 0., 0.]],\n",
       " \n",
       "        [[0., 0., 0., 0., 0., 0., 0., 0., 0.],\n",
       "         [0., 0., 0., 0., 0., 0., 0., 0., 0.],\n",
       "         [0., 0., 0., 0., 0., 0., 0., 0., 0.],\n",
       "         [0., 0., 0., 0., 0., 0., 0., 0., 0.],\n",
       "         [0., 0., 0., 0., 0., 0., 0., 0., 0.],\n",
       "         [0., 0., 0., 0., 0., 0., 0., 0., 0.],\n",
       "         [0., 0., 0., 0., 0., 0., 0., 0., 0.],\n",
       "         [0., 0., 0., 0., 0., 0., 0., 0., 0.],\n",
       "         [0., 0., 0., 0., 0., 0., 0., 0., 0.]],\n",
       " \n",
       "        [[0., 0., 0., 0., 0., 0., 0., 0., 0.],\n",
       "         [0., 0., 0., 0., 0., 0., 0., 0., 0.],\n",
       "         [0., 0., 0., 0., 0., 0., 0., 0., 0.],\n",
       "         [0., 0., 0., 0., 0., 0., 0., 0., 0.],\n",
       "         [0., 0., 0., 0., 0., 0., 0., 0., 0.],\n",
       "         [0., 0., 0., 0., 0., 0., 0., 0., 0.],\n",
       "         [0., 0., 0., 0., 0., 0., 0., 0., 0.],\n",
       "         [0., 0., 0., 0., 0., 0., 0., 0., 0.],\n",
       "         [0., 0., 0., 0., 0., 0., 0., 0., 0.]]], dtype=float32),\n",
       " array([ 1.50575500e+01,  1.57467000e+00,  1.51807000e+00,  2.14340000e+00,\n",
       "         4.57100000e+01, -2.62600000e-01, -4.61000000e-02,  2.16500000e-01,\n",
       "         7.41954000e+02,  8.24460000e-02, -3.22421320e+02, -3.22414586e+02,\n",
       "        -3.22413642e+02, -3.22453432e+02,  2.10860000e+01]))"
      ]
     },
     "execution_count": 18,
     "metadata": {},
     "output_type": "execute_result"
    }
   ],
   "source": [
    "dataset[500]"
   ]
  },
  {
   "cell_type": "code",
   "execution_count": 24,
   "metadata": {},
   "outputs": [
    {
     "data": {
      "text/plain": [
       "'N=COCC=O'"
      ]
     },
     "execution_count": 24,
     "metadata": {},
     "output_type": "execute_result"
    }
   ],
   "source": [
    "smiles = result['smiles']\n",
    "smiles[500]"
   ]
  },
  {
   "cell_type": "code",
   "execution_count": 23,
   "metadata": {},
   "outputs": [
    {
     "data": {
      "image/jpeg": "[encoded data removed]",
      "image/png": "[encoded data removed]",
      "text/plain": [
       "<PIL.PngImagePlugin.PngImageFile image mode=RGB size=300x300>"
      ]
     },
     "execution_count": 23,
     "metadata": {},
     "output_type": "execute_result"
    }
   ],
   "source": [
    "from rdkit import Chem\n",
    "from rdkit.Chem import Draw\n",
    "\n",
    "# Convert SMILES string to molecule\n",
    "mol = Chem.MolFromSmiles('N=COCC=O')\n",
    "\n",
    "# Draw molecule\n",
    "Draw.MolToImage(mol, size=(300, 300))\n"
   ]
  },
  {
   "cell_type": "code",
   "execution_count": 26,
   "metadata": {},
   "outputs": [],
   "source": [
    "# suppose we have the kekulized SMILES dataset\n",
    "import json\n",
    "with open('data/valid_idx_qm9.json', 'r') as f:\n",
    "    test_idx = json.load(f)\n",
    "\n",
    "test_idx = test_idx['valid_idxs']\n",
    "test_idx = [int(i) for i in test_idx]\n",
    "col = ['SMILES1']\n",
    "\n",
    "smiles = pd.read_csv(f'data/qm9.csv')[col]\n"
   ]
  },
  {
   "cell_type": "code",
   "execution_count": 28,
   "metadata": {},
   "outputs": [
    {
     "name": "stdout",
     "output_type": "stream",
     "text": [
      "                    SMILES1\n",
      "0                         C\n",
      "1                         N\n",
      "2                         O\n",
      "3                       C#C\n",
      "4                       C#N\n",
      "...                     ...\n",
      "133880  C1C2C3C4C5OC14C5N23\n",
      "133881  C1N2C3C2C2C4OC12C34\n",
      "133882  C1N2C3C4C5C2C13CN45\n",
      "133883  C1N2C3C4C5CC13C2C45\n",
      "133884  C1N2C3C4C5OC13C2C45\n",
      "\n",
      "[133885 rows x 1 columns]\n"
     ]
    }
   ],
   "source": [
    "print(smiles)"
   ]
  }
 ],
 "metadata": {
  "kernelspec": {
   "display_name": "tmx",
   "language": "python",
   "name": "python3"
  },
  "language_info": {
   "codemirror_mode": {
    "name": "ipython",
    "version": 3
   },
   "file_extension": ".py",
   "mimetype": "text/x-python",
   "name": "python",
   "nbconvert_exporter": "python",
   "pygments_lexer": "ipython3",
   "version": "3.11.3"
  }
 },
 "nbformat": 4,
 "nbformat_minor": 2
}
